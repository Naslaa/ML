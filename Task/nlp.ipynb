{
 "cells": [
  {
   "cell_type": "markdown",
   "metadata": {},
   "source": [
    "# NLP Task"
   ]
  },
  {
   "cell_type": "markdown",
   "metadata": {},
   "source": [
    "### Try to solve on your own. Add comments and explain what you are trying to do or did."
   ]
  },
  {
   "cell_type": "code",
   "execution_count": 1,
   "metadata": {},
   "outputs": [],
   "source": [
    "input_text = \" I Li#ke@ to do NLP!. I look% forward to it11. \" "
   ]
  },
  {
   "cell_type": "markdown",
   "metadata": {},
   "source": [
    "# Question 1\n",
    "### Convert input_text to lowercase."
   ]
  },
  {
   "cell_type": "code",
   "execution_count": 2,
   "metadata": {},
   "outputs": [
    {
     "name": "stdout",
     "output_type": "stream",
     "text": [
      " i li#ke@ to do nlp!. i look% forward to it11. \n"
     ]
    }
   ],
   "source": [
    "lowercase = input_text.lower() #used lower funtion to convert input_text into lowercase\n",
    "print(lowercase)"
   ]
  },
  {
   "cell_type": "code",
   "execution_count": 3,
   "metadata": {},
   "outputs": [
    {
     "name": "stdout",
     "output_type": "stream",
     "text": [
      " i li#ke@ to do nlp!. i look% forward to it11. \n"
     ]
    }
   ],
   "source": [
    "#without using lower() function\n",
    "lwcase= '' #initializing the lwcase with empty string\n",
    "\n",
    "for char in input_text: #creating a loop for every character in input_text\n",
    "    if 'A'<= char<='Z': #checks if a character is uppercase letter from A to Z\n",
    "        lwcase += chr(ord(char)+32) #ord(char) gets the ASCII value of the letter than 32 is added to it. difference between upper case letters and their corresponding lowercase letter is 32\n",
    "\n",
    "    else:\n",
    "        lwcase+=char #if char is not upper case then it addeds char to the string as it is\n",
    "\n",
    "print(lwcase)\n"
   ]
  },
  {
   "cell_type": "markdown",
   "metadata": {},
   "source": [
    "# Question 2\n",
    "### Only extract texts from input_text. \n",
    "### For example \"li#ke!11\" would be \"like\". "
   ]
  },
  {
   "cell_type": "code",
   "execution_count": 20,
   "metadata": {},
   "outputs": [
    {
     "name": "stdout",
     "output_type": "stream",
     "text": [
      " I Like to do NLP I look forward to it \n"
     ]
    }
   ],
   "source": [
    "text_only = '' #initializing with empty string\n",
    "\n",
    "for char in input_text: #loop to iterate through input_text\n",
    "    if ('A'<= char<='Z') or ('a'<=char<='z')or char==' ': # checks if the character lies between a-z or A-Z or is a space\n",
    "    #if char.isalpha(): //checks if the character is alphabet or not\n",
    "        text_only += char #appends the character to text_only\n",
    "\n",
    "print(text_only)"
   ]
  },
  {
   "cell_type": "markdown",
   "metadata": {},
   "source": [
    "# Question 3 \n",
    "### Count numbe of words in text_only. \n",
    "### For example \"I study in prime.\" Number of words = 4"
   ]
  },
  {
   "cell_type": "code",
   "execution_count": 23,
   "metadata": {},
   "outputs": [
    {
     "name": "stdout",
     "output_type": "stream",
     "text": [
      "Number of words= 10\n"
     ]
    }
   ],
   "source": [
    "words= text_only.split() #spliting the text based on spaces\n",
    "num_of_words= len(words) #counts the number of words in words\n",
    "print (f\"Number of words= {num_of_words}\")"
   ]
  },
  {
   "cell_type": "code",
   "execution_count": 28,
   "metadata": {},
   "outputs": [
    {
     "name": "stdout",
     "output_type": "stream",
     "text": [
      "10\n"
     ]
    }
   ],
   "source": [
    "#without using functions\n",
    "nums_of_words = 0 #initializing\n",
    "word=False #initializing boolen variable\n",
    "\n",
    "for char in text_only: #loop to iterate through text_only\n",
    "    if char!=' ' and not word: #if the charcter is not space and word is false, which indicates start of word\n",
    "        nums_of_words+=1 #word count is increased by 1\n",
    "        word= True # indicates that it is a word\n",
    "    elif char==' ':\n",
    "        word= False #if space is found thw word is initialized to new word, which is false\n",
    "\n",
    "print(nums_of_words)\n"
   ]
  },
  {
   "cell_type": "code",
   "execution_count": null,
   "metadata": {},
   "outputs": [],
   "source": []
  }
 ],
 "metadata": {
  "kernelspec": {
   "display_name": "Python 3",
   "language": "python",
   "name": "python3"
  },
  "language_info": {
   "codemirror_mode": {
    "name": "ipython",
    "version": 3
   },
   "file_extension": ".py",
   "mimetype": "text/x-python",
   "name": "python",
   "nbconvert_exporter": "python",
   "pygments_lexer": "ipython3",
   "version": "3.11.2"
  }
 },
 "nbformat": 4,
 "nbformat_minor": 2
}
