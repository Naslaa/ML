{
 "cells": [
  {
   "cell_type": "markdown",
   "metadata": {},
   "source": [
    "### Go through https://www.datacamp.com/blog/yolo-object-detection-explained\n",
    "### Write in points what you understood. You can write in many points as you like.\n",
    "### You can also refer other blogs related to YOLO."
   ]
  },
  {
   "cell_type": "code",
   "execution_count": null,
   "metadata": {
    "vscode": {
     "languageId": "plaintext"
    }
   },
   "outputs": [],
   "source": [
    "### You can write here. Or write in seperate docs file."
   ]
  }
 ],
 "metadata": {
  "language_info": {
   "name": "python"
  }
 },
 "nbformat": 4,
 "nbformat_minor": 2
}
